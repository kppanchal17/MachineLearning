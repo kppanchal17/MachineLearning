{
 "cells": [
  {
   "cell_type": "code",
   "execution_count": 3,
   "metadata": {},
   "outputs": [],
   "source": [
    "import cv2\n",
    "import os\n",
    "import numpy as np\n",
    "import matplotlib.pyplot as plt"
   ]
  },
  {
   "cell_type": "code",
   "execution_count": 4,
   "metadata": {},
   "outputs": [
    {
     "name": "stdout",
     "output_type": "stream",
     "text": [
      "(55, 160000)\n"
     ]
    }
   ],
   "source": [
    "#Input of dataset\n",
    "directory_train = 'dataset/train/'\n",
    "directory_test = 'dataset/test/'\n",
    "data_train = []\n",
    "labels = {}\n",
    "i = 0\n",
    "for file in os.listdir(directory_train):\n",
    "    img = cv2.imread(directory_train+file)\n",
    "    img = cv2.resize(img, (400,400))\n",
    "    img = cv2.cvtColor(img, cv2.COLOR_BGR2GRAY)\n",
    "    img = img.flatten()\n",
    "    label = file.split('_')\n",
    "    if label[0] in labels:\n",
    "        labels[label[0]].append(i)\n",
    "    else:\n",
    "        labels[label[0]] = []\n",
    "        labels[label[0]].append(i)\n",
    "    i +=1\n",
    "    data_train.append(img)\n",
    "data_train = np.asarray(data_train)\n",
    "print(data_train.shape)"
   ]
  },
  {
   "cell_type": "code",
   "execution_count": 15,
   "metadata": {},
   "outputs": [],
   "source": [
    "# plt.imshow(data_train[17].reshape((400,400)), cmap = 'gray')"
   ]
  },
  {
   "cell_type": "code",
   "execution_count": 63,
   "metadata": {},
   "outputs": [],
   "source": [
    "# Normalization and Training\n",
    "mean = np.mean(data_train, axis = 0)\n",
    "stddev = np.std(data_train, axis = 0)\n",
    "average_data = (data_train - mean)\n",
    "covarience = 1 /  len(average_data) * average_data@average_data.T\n",
    "eigen_vectors,v,d = np.linalg.svd(covarience)\n",
    "K = 30\n",
    "Keigen_vectors = eigen_vectors[:,:K]\n",
    "eigen_faces = Keigen_vectors.T@average_data\n",
    "weights = average_data@eigen_faces.T\n",
    "#LDA\n",
    "scatter_within = np.zeros((K,K))\n",
    "scatter_between = np.zeros((K,K))\n",
    "weights_mean = np.mean(weights, axis = 0).reshape((K,1))\n",
    "for name, indexes in labels.items():\n",
    "    mat_class = np.copy(weights[indexes])\n",
    "    mean_class = np.mean(mat_class, axis = 0).reshape(K,1)\n",
    "    scatter_within += ((mat_class - mean_class.T).T@(mat_class - mean_class.T))\n",
    "    scatter_between += ((mean_class - weights_mean)@(mean_class - weights_mean).T)\n",
    "J = np.linalg.inv(scatter_within)@scatter_between\n",
    "LDAeigan_vectors , v, d = np.linalg.svd(J)\n",
    "K2 = 20\n",
    "LDAKeigan_vectors = LDAeigan_vectors[:,:K2]"
   ]
  },
  {
   "cell_type": "code",
   "execution_count": 16,
   "metadata": {},
   "outputs": [],
   "source": [
    "# plt.imshow(average_data[17].reshape((400,400)), cmap = 'gray')"
   ]
  },
  {
   "cell_type": "code",
   "execution_count": 9,
   "metadata": {},
   "outputs": [
    {
     "name": "stdout",
     "output_type": "stream",
     "text": [
      "Given Image : balaji\n",
      "Predicted Image : balaji\n",
      "Given Image : Luv\n",
      "Predicted Image : Luv\n",
      "Given Image : sidharth\n",
      "Predicted Image : sidharth\n",
      "Given Image : Luve\n",
      "Predicted Image : Luv\n",
      "Given Image : aswin\n",
      "Predicted Image : aswin\n",
      "Given Image : pasha\n",
      "Predicted Image : pasha\n",
      "Given Image : pranav\n",
      "Predicted Image : pranav\n",
      "Given Image : varun\n",
      "Predicted Image : varun\n",
      "Given Image : praveen\n",
      "Predicted Image : praveen\n",
      "Given Image : Luvv\n",
      "Predicted Image : Luv\n"
     ]
    }
   ],
   "source": [
    "# Testing\n",
    "\n",
    "for file in os.listdir(directory_test):\n",
    "    img = cv2.imread(directory_test+file)\n",
    "    img = cv2.resize(img, (400,400))\n",
    "    img = cv2.cvtColor(img, cv2.COLOR_BGR2GRAY)\n",
    "    img = img.flatten()\n",
    "    average_img = (img - mean)\n",
    "    weight_img = average_img@eigen_faces.T\n",
    "    label,_ = file.split('_')\n",
    "    min_distance = 1e19\n",
    "    min_index = 0\n",
    "    for i in range(len(weights)):\n",
    "        norm = np.linalg.norm(weight_img - weights[i])\n",
    "        if  norm < min_distance:\n",
    "            min_distance = norm\n",
    "            min_index = i\n",
    "    ans_label = ''\n",
    "    for key, value in labels.items():\n",
    "        if min_index in value:\n",
    "            ans_label = key\n",
    "    print('Given Image : ' + label)\n",
    "    print('Predicted Image : ' + ans_label)"
   ]
  }
 ],
 "metadata": {
  "kernelspec": {
   "display_name": "Python 3",
   "language": "python",
   "name": "python3"
  },
  "language_info": {
   "codemirror_mode": {
    "name": "ipython",
    "version": 3
   },
   "file_extension": ".py",
   "mimetype": "text/x-python",
   "name": "python",
   "nbconvert_exporter": "python",
   "pygments_lexer": "ipython3",
   "version": "3.5.2"
  }
 },
 "nbformat": 4,
 "nbformat_minor": 2
}
