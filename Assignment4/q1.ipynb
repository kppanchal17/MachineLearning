{
 "cells": [
  {
   "cell_type": "code",
   "execution_count": 1,
   "metadata": {},
   "outputs": [],
   "source": [
    "import numpy as np\n",
    "import pandas as pd\n",
    "import math\n",
    "import matplotlib.pyplot as plt\n",
    "from mpl_toolkits.mplot3d import Axes3D\n",
    "from sklearn.utils import shuffle"
   ]
  },
  {
   "cell_type": "code",
   "execution_count": 2,
   "metadata": {},
   "outputs": [
    {
     "data": {
      "text/html": [
       "<div>\n",
       "<style scoped>\n",
       "    .dataframe tbody tr th:only-of-type {\n",
       "        vertical-align: middle;\n",
       "    }\n",
       "\n",
       "    .dataframe tbody tr th {\n",
       "        vertical-align: top;\n",
       "    }\n",
       "\n",
       "    .dataframe thead th {\n",
       "        text-align: right;\n",
       "    }\n",
       "</style>\n",
       "<table border=\"1\" class=\"dataframe\">\n",
       "  <thead>\n",
       "    <tr style=\"text-align: right;\">\n",
       "      <th></th>\n",
       "      <th>exam1</th>\n",
       "      <th>exam2</th>\n",
       "      <th>accept</th>\n",
       "    </tr>\n",
       "  </thead>\n",
       "  <tbody>\n",
       "    <tr>\n",
       "      <th>0</th>\n",
       "      <td>34.623660</td>\n",
       "      <td>78.024693</td>\n",
       "      <td>0</td>\n",
       "    </tr>\n",
       "    <tr>\n",
       "      <th>1</th>\n",
       "      <td>30.286711</td>\n",
       "      <td>43.894998</td>\n",
       "      <td>0</td>\n",
       "    </tr>\n",
       "    <tr>\n",
       "      <th>2</th>\n",
       "      <td>35.847409</td>\n",
       "      <td>72.902198</td>\n",
       "      <td>0</td>\n",
       "    </tr>\n",
       "    <tr>\n",
       "      <th>3</th>\n",
       "      <td>60.182599</td>\n",
       "      <td>86.308552</td>\n",
       "      <td>1</td>\n",
       "    </tr>\n",
       "    <tr>\n",
       "      <th>4</th>\n",
       "      <td>79.032736</td>\n",
       "      <td>75.344376</td>\n",
       "      <td>1</td>\n",
       "    </tr>\n",
       "  </tbody>\n",
       "</table>\n",
       "</div>"
      ],
      "text/plain": [
       "       exam1      exam2  accept\n",
       "0  34.623660  78.024693       0\n",
       "1  30.286711  43.894998       0\n",
       "2  35.847409  72.902198       0\n",
       "3  60.182599  86.308552       1\n",
       "4  79.032736  75.344376       1"
      ]
     },
     "execution_count": 2,
     "metadata": {},
     "output_type": "execute_result"
    }
   ],
   "source": [
    "# Fetching data\n",
    "data = pd.read_csv('examination.csv')\n",
    "mean = data.mean()\n",
    "stddev = data.std()\n",
    "# data = shuffle(data)\n",
    "data.head()\n",
    "# print(data)"
   ]
  },
  {
   "cell_type": "code",
   "execution_count": 3,
   "metadata": {},
   "outputs": [
    {
     "name": "stdout",
     "output_type": "stream",
     "text": [
      "(29, 3) (71, 3)\n"
     ]
    }
   ],
   "source": [
    "# Separate out the Feature and Target matrices\n",
    "data=np.asarray(data)\n",
    "np.random.shuffle(data)\n",
    "Y=data[:,-1:]\n",
    "X=data[:,:-1]\n",
    "\n",
    "# Nature of Data\n",
    "\n",
    "# fig, ax = plt.subplots() \n",
    "# for i in range(len(X)):\n",
    "#     if Y[i] == 1:\n",
    "#         ax.plot(X[i][0], X[i][1], marker='o',color='b')\n",
    "#     else:\n",
    "#         ax.plot(X[i][0], X[i][1], marker='o',color='r')\n",
    "\n",
    "one = np.ones((len(X),1))\n",
    "X = np.concatenate((one,X),axis=1)\n",
    "split_ratio = 0.7\n",
    "split = int(split_ratio * X.shape[0])\n",
    "\n",
    "X_train = X[:split+1, :]\n",
    "Y_train = Y[:split+1, :]\n",
    "\n",
    "X_test = X[split+1:,:]\n",
    "Y_test = Y[split+1:,:]\n",
    "\n",
    "# Extra features can be added for more accuracy\n",
    "\n",
    "# X_train = np.concatenate((X_train,X_train[:,1:]**2), axis=1)\n",
    "# X_test = np.concatenate((X_test,X_test[:,1:]**2), axis=1)\n",
    "\n",
    "\n",
    "print(X_test.shape, X_train.shape)"
   ]
  },
  {
   "cell_type": "code",
   "execution_count": 4,
   "metadata": {},
   "outputs": [],
   "source": [
    "def computeError(predicted, actual):\n",
    "    error = 0\n",
    "    for i in range(len(predicted)):\n",
    "        if(actual[i] != predicted[i]):\n",
    "            error+=1\n",
    "    error /= len(actual)\n",
    "    return error*100\n",
    "\n",
    "def getHessian(X, gx):\n",
    "    identity = np.identity(gx.shape[0])\n",
    "    identity = (gx*(1-gx))*identity\n",
    "    return X.T@identity@X\n",
    "\n",
    "\n",
    "def getJacobian(X,gx,y):\n",
    "    return X.T@(gx - y)\n",
    "    \n",
    "def getG(thetax):\n",
    "#     print(\"hi\",thetax)\n",
    "    return (1 / (1 + np.exp(-1 * thetax)))"
   ]
  },
  {
   "cell_type": "code",
   "execution_count": 5,
   "metadata": {},
   "outputs": [],
   "source": [
    "# Newton's Method using deltalearning\n",
    "def NewtonMethod(X,y,theta,iters):\n",
    "    cost = []\n",
    "    for i in range(iters):\n",
    "        gx = getG(X @ theta)\n",
    "        iden = np.identity(gx.shape[0])\n",
    "        iden = (gx*(1-gx))*iden\n",
    "#         print(iden)\n",
    "        theta = theta - (1 / len(X))* np.linalg.inv(getHessian(X,gx))@(getJacobian(X,gx,y))\n",
    "    return theta,cost\n"
   ]
  },
  {
   "cell_type": "code",
   "execution_count": 6,
   "metadata": {},
   "outputs": [
    {
     "name": "stdout",
     "output_type": "stream",
     "text": [
      "Accuracy :  86.20689655172414\n",
      "Error :  13.793103448275861\n"
     ]
    }
   ],
   "source": [
    "theta = np.zeros([X_train.shape[1],1])\n",
    "iters = 20\n",
    "# print(computeCost(X_train, Y_train, theta).shape)\n",
    "g,cost = NewtonMethod(X_train,Y_train,theta,iters)\n",
    "# print(g)\n",
    "Y_pred = getG(X_test.dot(g))\n",
    "\n",
    "for i in range(len(Y_pred)):\n",
    "    if(Y_pred[i] >= 0.5):\n",
    "        Y_pred[i] = 1\n",
    "    else:\n",
    "        Y_pred[i] = 0\n",
    "# print(Y_pred,Y_test)\n",
    "error = computeError(Y_pred,Y_test)\n",
    "print(\"Accuracy : \", 100 - error)\n",
    "print(\"Error : \", error)"
   ]
  },
  {
   "cell_type": "code",
   "execution_count": 7,
   "metadata": {},
   "outputs": [
    {
     "data": {
      "text/plain": [
       "[<matplotlib.lines.Line2D at 0x7f70b75c7a90>]"
      ]
     },
     "execution_count": 7,
     "metadata": {},
     "output_type": "execute_result"
    },
    {
     "data": {
      "image/png": "[encoded data removed]",
      "text/plain": [
       "<Figure size 432x288 with 1 Axes>"
      ]
     },
     "metadata": {
      "needs_background": "light"
     },
     "output_type": "display_data"
    }
   ],
   "source": [
    "fig1,ax1 = plt.subplots()\n",
    "X_tmp = X[:,1:]\n",
    "Y_tmp = Y\n",
    "Y_out = []\n",
    "\n",
    "# Plotting for straight line Features\n",
    "\n",
    "for i in range(len(X_tmp)):\n",
    "    Y_out.append((-1*g[0]-g[1]*X_tmp[i][0])/g[2])\n",
    "    if Y_tmp[i] == 1:\n",
    "        ax1.plot(X_tmp[i][0], X_tmp[i][1], marker='o',color='b')\n",
    "    else:\n",
    "        ax1.plot(X_tmp[i][0], X_tmp[i][1], marker='o',color='r')\n",
    "Y_out = np.asarray(Y_out)\n",
    "ax1.plot(X_tmp[:,:1],Y_out)\n",
    "\n",
    "\n",
    "#PLotting linear regression if extra features added\n",
    "\n",
    "# Y_out = []\n",
    "# X_out = []\n",
    "# for i in range(len(X_tmp)):\n",
    "#     X_out.append(X_tmp[i][0])\n",
    "# X_out.sort()\n",
    "# X__out = []\n",
    "# for i in range(len(X_tmp)):\n",
    "#     if(g[2]**2 - 4 * g[4] * (g[0]+g[1]*X_out[i]+g[3]*X_out[i]**2) > 0):\n",
    "#         X__out.append(X_out[i])\n",
    "#         Y_out.append((-g[2] + math.sqrt(g[2]**2 - 4 * g[4] * (g[0]+g[1]*X_out[i]+g[3]*X_out[i]**2))) / (2 * g[4]))\n",
    "#     if Y_tmp[i] == 1:\n",
    "#         ax1.plot(X_tmp[i][0], X_tmp[i][1], marker='o',color='b')\n",
    "#     else:\n",
    "#         ax1.plot(X_tmp[i][0], X_tmp[i][1], marker='o',color='r')\n",
    "# l = len(X__out)\n",
    "# for i in range(l-1, -1, -1):\n",
    "#     X__out.append(X__out[i])\n",
    "#     Y_out.append((-g[2] - math.sqrt(g[2]**2 - 4 * g[4] * (g[0]+g[1]*X__out[i]+g[3]*X__out[i]**2))) / (2 * g[4]))\n",
    "    \n",
    "# Y_out = np.asarray(Y_out)\n",
    "# ax1.plot(X__out,Y_out,color='y')"
   ]
  }
 ],
 "metadata": {
  "kernelspec": {
   "display_name": "Python 3",
   "language": "python",
   "name": "python3"
  },
  "language_info": {
   "codemirror_mode": {
    "name": "ipython",
    "version": 3
   },
   "file_extension": ".py",
   "mimetype": "text/x-python",
   "name": "python",
   "nbconvert_exporter": "python",
   "pygments_lexer": "ipython3",
   "version": "3.6.5"
  }
 },
 "nbformat": 4,
 "nbformat_minor": 2
}
