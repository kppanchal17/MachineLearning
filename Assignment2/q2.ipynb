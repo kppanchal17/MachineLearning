{
 "cells": [
  {
   "cell_type": "code",
   "execution_count": 402,
   "metadata": {
    "colab": {},
    "colab_type": "code",
    "id": "CHxrIZH_QuDO"
   },
   "outputs": [],
   "source": [
    "import numpy as np\n",
    "import pandas as pd\n",
    "import matplotlib.pyplot as plt\n",
    "# from mpl_toolkits.mplot3d import Axes3D"
   ]
  },
  {
   "cell_type": "code",
   "execution_count": 403,
   "metadata": {
    "colab": {
     "base_uri": "https://localhost:8080/",
     "height": 195
    },
    "colab_type": "code",
    "id": "B_ORs-0xer0n",
    "outputId": "dac0af30-bbea-4d4d-8f1c-a1a20a92e0e3"
   },
   "outputs": [
    {
     "data": {
      "text/html": [
       "<div>\n",
       "<style scoped>\n",
       "    .dataframe tbody tr th:only-of-type {\n",
       "        vertical-align: middle;\n",
       "    }\n",
       "\n",
       "    .dataframe tbody tr th {\n",
       "        vertical-align: top;\n",
       "    }\n",
       "\n",
       "    .dataframe thead th {\n",
       "        text-align: right;\n",
       "    }\n",
       "</style>\n",
       "<table border=\"1\" class=\"dataframe\">\n",
       "  <thead>\n",
       "    <tr style=\"text-align: right;\">\n",
       "      <th></th>\n",
       "      <th>price</th>\n",
       "      <th>lotsize</th>\n",
       "      <th>bedrooms</th>\n",
       "      <th>bathrms</th>\n",
       "      <th>stories</th>\n",
       "      <th>garagepl</th>\n",
       "    </tr>\n",
       "  </thead>\n",
       "  <tbody>\n",
       "    <tr>\n",
       "      <th>0</th>\n",
       "      <td>-0.978239</td>\n",
       "      <td>0.322732</td>\n",
       "      <td>0.047192</td>\n",
       "      <td>-0.568973</td>\n",
       "      <td>0.221501</td>\n",
       "      <td>0.357239</td>\n",
       "    </tr>\n",
       "    <tr>\n",
       "      <th>1</th>\n",
       "      <td>-1.109312</td>\n",
       "      <td>-0.530526</td>\n",
       "      <td>-1.308947</td>\n",
       "      <td>-0.568973</td>\n",
       "      <td>-0.930304</td>\n",
       "      <td>-0.803788</td>\n",
       "    </tr>\n",
       "    <tr>\n",
       "      <th>2</th>\n",
       "      <td>-0.697368</td>\n",
       "      <td>-0.964074</td>\n",
       "      <td>0.047192</td>\n",
       "      <td>-0.568973</td>\n",
       "      <td>-0.930304</td>\n",
       "      <td>-0.803788</td>\n",
       "    </tr>\n",
       "    <tr>\n",
       "      <th>3</th>\n",
       "      <td>-0.285425</td>\n",
       "      <td>0.691709</td>\n",
       "      <td>0.047192</td>\n",
       "      <td>-0.568973</td>\n",
       "      <td>0.221501</td>\n",
       "      <td>-0.803788</td>\n",
       "    </tr>\n",
       "    <tr>\n",
       "      <th>4</th>\n",
       "      <td>-0.266700</td>\n",
       "      <td>0.557955</td>\n",
       "      <td>-1.308947</td>\n",
       "      <td>-0.568973</td>\n",
       "      <td>-0.930304</td>\n",
       "      <td>-0.803788</td>\n",
       "    </tr>\n",
       "  </tbody>\n",
       "</table>\n",
       "</div>"
      ],
      "text/plain": [
       "      price   lotsize  bedrooms   bathrms   stories  garagepl\n",
       "0 -0.978239  0.322732  0.047192 -0.568973  0.221501  0.357239\n",
       "1 -1.109312 -0.530526 -1.308947 -0.568973 -0.930304 -0.803788\n",
       "2 -0.697368 -0.964074  0.047192 -0.568973 -0.930304 -0.803788\n",
       "3 -0.285425  0.691709  0.047192 -0.568973  0.221501 -0.803788\n",
       "4 -0.266700  0.557955 -1.308947 -0.568973 -0.930304 -0.803788"
      ]
     },
     "execution_count": 403,
     "metadata": {},
     "output_type": "execute_result"
    }
   ],
   "source": [
    "# Fetching data\n",
    "data = pd.read_csv('Housing Price data set.csv')\n",
    "data=data.drop(['Unnamed: 0','driveway','recroom','fullbase','airco','prefarea', 'gashw'],axis=1)\n",
    "# di = {'no': 0, 'yes': 1}\n",
    "# data=data.replace({'driveway':di,'recroom':di,'fullbase':di,'gashw':di,'airco':di,'prefarea':di})\n",
    "mean = data.mean()[0]\n",
    "stddev = data.std()[0]\n",
    "data = (data - data.mean())/data.std()\n",
    "data.head()"
   ]
  },
  {
   "cell_type": "code",
   "execution_count": 404,
   "metadata": {
    "colab": {},
    "colab_type": "code",
    "id": "sFceNVEyQuDj"
   },
   "outputs": [
    {
     "name": "stdout",
     "output_type": "stream",
     "text": [
      "(546, 6) (546, 1)\n"
     ]
    }
   ],
   "source": [
    "# Separate out the Feature and Target matrices\n",
    "data=np.asarray(data)\n",
    "Y=data[:,0:1]\n",
    "X=data[:,1:]\n",
    "one = np.ones((len(X),1))\n",
    "X = np.concatenate((one,X),axis=1)\n",
    "print(X.shape, Y.shape)"
   ]
  },
  {
   "cell_type": "code",
   "execution_count": 405,
   "metadata": {
    "colab": {},
    "colab_type": "code",
    "id": "7r4JwRSsQuDm"
   },
   "outputs": [],
   "source": [
    "def denormalise_price(price):\n",
    "    global mean\n",
    "    global stddev\n",
    "    ret = price * stddev + mean\n",
    "    return ret\n",
    "\n",
    "def computeError(predicted, actual):\n",
    "    error = 0\n",
    "    for i in range(len(predicted)):\n",
    "        error += abs(actual[i] - predicted[i]) / actual[i]\n",
    "    error = error / len(actual)\n",
    "    return error[0]*100"
   ]
  },
  {
   "cell_type": "code",
   "execution_count": 406,
   "metadata": {
    "colab": {},
    "colab_type": "code",
    "id": "JHGN_9F_QuDu"
   },
   "outputs": [],
   "source": [
    "# Locally Weighted Regression with normal Equation\n",
    "\n",
    "def normalEquationLWR(X,Y, index, Tao):\n",
    "    Tfunc = np.exp(np.sum((X-X[index])**2, axis=1) / (-2*Tao**2))\n",
    "    W = Tfunc * np.identity(X.shape[0])\n",
    "    theta = np.linalg.inv(X.T@W@X)@X.T@W@Y\n",
    "    return theta"
   ]
  },
  {
   "cell_type": "code",
   "execution_count": 407,
   "metadata": {
    "colab": {
     "base_uri": "https://localhost:8080/",
     "height": 229
    },
    "colab_type": "code",
    "id": "9weddsqCQuD4",
    "outputId": "9b376078-a557-443d-9692-c15e702b5a79"
   },
   "outputs": [
    {
     "data": {
      "text/plain": [
       "Text(0.5, 1.0, 'Effect of Tao on error')"
      ]
     },
     "execution_count": 407,
     "metadata": {},
     "output_type": "execute_result"
    },
    {
     "data": {
      "image/png": "[encoded data removed]",
      "text/plain": [
       "<Figure size 432x288 with 1 Axes>"
      ]
     },
     "metadata": {
      "needs_background": "light"
     },
     "output_type": "display_data"
    }
   ],
   "source": [
    "# Normal Equation\n",
    "\n",
    "\n",
    "#Trainging every time for each sample\n",
    "tmp=[]\n",
    "err =[]\n",
    "for j in range (1,20):\n",
    "    tmp.append(j)\n",
    "    error =0\n",
    "    Y_pred = []\n",
    "    for i in range(len(X)):\n",
    "        theta = normalEquationLWR(X,Y,i, j)\n",
    "        predicted = denormalise_price(X[i]@(theta))\n",
    "        actual = denormalise_price(Y[i])\n",
    "        Y_pred.append(predicted)\n",
    "        error += abs(predicted  - actual) / actual\n",
    "    err.append(error/ len(X)*100)\n",
    "    \n",
    "f,a = plt.subplots()\n",
    "a.plot(tmp,err)\n",
    "a.set_xlabel('Tao')\n",
    "a.set_ylabel('Percentage Error')  \n",
    "a.set_title('Effect of Tao on error') \n",
    "# print(\"Percentage Error :\", computeError(Y_pred,denormalise_price(Y)))\n"
   ]
  },
  {
   "cell_type": "code",
   "execution_count": 408,
   "metadata": {},
   "outputs": [
    {
     "data": {
      "text/plain": [
       "Text(0.5, 1.0, 'Predicted and Actual prices(LWR)')"
      ]
     },
     "execution_count": 408,
     "metadata": {},
     "output_type": "execute_result"
    },
    {
     "data": {
      "image/png": "[encoded data removed]",
      "text/plain": [
       "<Figure size 864x864 with 1 Axes>"
      ]
     },
     "metadata": {
      "needs_background": "light"
     },
     "output_type": "display_data"
    }
   ],
   "source": [
    "# Percenatge error vs Lmbda plot\n",
    "fig, ax = plt.subplots()  \n",
    "fig.set_size_inches(12,12)\n",
    "lent = 250\n",
    "ax.scatter(np.arange(lent), denormalise_price(Y[:lent]), color = 'b')\n",
    "ax.scatter(np.arange(lent), Y_pred[:lent], color = 'r')\n",
    "ax.set_ylabel('Price')  \n",
    "ax.set_title('Predicted and Actual prices(LWR)') "
   ]
  }
 ],
 "metadata": {
  "colab": {
   "collapsed_sections": [],
   "name": "Assgn1_ques5.ipynb",
   "provenance": [],
   "version": "0.3.2"
  },
  "kernelspec": {
   "display_name": "Python 3",
   "language": "python",
   "name": "python3"
  },
  "language_info": {
   "codemirror_mode": {
    "name": "ipython",
    "version": 3
   },
   "file_extension": ".py",
   "mimetype": "text/x-python",
   "name": "python",
   "nbconvert_exporter": "python",
   "pygments_lexer": "ipython3",
   "version": "3.6.5"
  }
 },
 "nbformat": 4,
 "nbformat_minor": 1
}
