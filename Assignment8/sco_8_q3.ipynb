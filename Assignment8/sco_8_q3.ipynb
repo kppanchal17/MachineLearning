{
 "cells": [
  {
   "cell_type": "code",
   "execution_count": 1,
   "metadata": {},
   "outputs": [],
   "source": [
    "import numpy as np\n",
    "import matplotlib.pyplot as plt"
   ]
  },
  {
   "cell_type": "code",
   "execution_count": 237,
   "metadata": {},
   "outputs": [],
   "source": [
    "def get_fuzzy(a, b, steps = 0.01):\n",
    "    values = np. arange(a, b+1, steps)\n",
    "    if(len(values) == 3):\n",
    "        pb1 = np.array([0])\n",
    "        middle = 1\n",
    "    elif len(values) == 4:\n",
    "        pb1 = np.array([0, 1])\n",
    "        middle = 2 \n",
    "    else:\n",
    "        pb1 = np.array([0])\n",
    "        middle = np.random.randint(1, len(values) - 2)\n",
    "    \n",
    "    if(middle > len(pb1)):\n",
    "        pb1 = np.append(pb1, np.random.rand(middle-1))\n",
    "    pb1 = np.sort(pb1)\n",
    "    pb2 = [0,1]\n",
    "    if len(values) - middle > len(pb2):\n",
    "        pb2 = np.append(pb2, np.random.rand(len(values) - middle - 2))\n",
    "    pb2 = np.sort(pb2)\n",
    "    pb2 = pb2[::-1]\n",
    "    return np.array([values, np.append(pb1, pb2)]).T\n",
    "\n",
    "def add_fuzzy(a, b, roundof = 4):\n",
    "    vals = {}\n",
    "    for a_val in a:\n",
    "        for b_val in b:\n",
    "            if round(a_val[0] + b_val[0], roundof) not in vals:\n",
    "                vals[round(a_val[0] + b_val[0], roundof)] = min(a_val[1], b_val[1])\n",
    "            else:\n",
    "                vals[round(a_val[0] + b_val[0], roundof)] = max(vals[round(a_val[0] + b_val[0], roundof)],min(a_val[1], b_val[1]))\n",
    "    result = np.zeros((len(vals), 2))\n",
    "    ind = 0\n",
    "    for key in sorted(vals.keys()):\n",
    "        result[ind][0] = key\n",
    "        result[ind][1] = vals[key]\n",
    "        ind += 1\n",
    "    return result\n",
    "\n",
    "def multiply_fuzzy(a, b, roundof = 4):\n",
    "    vals = {}\n",
    "    for a_val in a:\n",
    "        for b_val in b:\n",
    "            if round(a_val[0] * b_val[0], roundof) not in vals:\n",
    "                vals[round(a_val[0] * b_val[0], roundof)] = min(a_val[1], b_val[1])\n",
    "            else:\n",
    "                vals[round(a_val[0] * b_val[0], roundof)] = max(vals[round(a_val[0] * b_val[0], roundof)],min(a_val[1], b_val[1]))\n",
    "    result = np.zeros((len(vals), 2))\n",
    "    ind = 0\n",
    "    for key in sorted(vals.keys()):\n",
    "        result[ind][0] = key\n",
    "        result[ind][1] = vals[key]\n",
    "        ind += 1\n",
    "    return result\n",
    "\n",
    "def scalaradd_fuzzy(a, b):\n",
    "    result = np.copy(a)\n",
    "    for i in range(len(a)):\n",
    "        result[i][0] += b\n",
    "    return result\n",
    "def scalarmultiply_fuzzy(a, b):\n",
    "    result = np.copy(a)\n",
    "    for i in range(len(a)):\n",
    "        result[i][0] *= b\n",
    "    return result"
   ]
  },
  {
   "cell_type": "code",
   "execution_count": 216,
   "metadata": {},
   "outputs": [
    {
     "data": {
      "text/plain": [
       "[<matplotlib.lines.Line2D at 0x7fad54f246d8>]"
      ]
     },
     "execution_count": 216,
     "metadata": {},
     "output_type": "execute_result"
    },
    {
     "data": {
      "image/png": "[encoded data removed]",
      "text/plain": [
       "<Figure size 432x288 with 1 Axes>"
      ]
     },
     "metadata": {
      "needs_background": "light"
     },
     "output_type": "display_data"
    }
   ],
   "source": [
    "a = get_fuzzy(2, 5, 1)\n",
    "b = get_fuzzy(4, 7, 1)\n",
    "c = add_fuzzy(a, b, 3)\n",
    "plt.plot(a.T[0], a.T[1])\n",
    "plt.plot(b.T[0], b.T[1])\n",
    "plt.plot(c.T[0], c.T[1])"
   ]
  },
  {
   "cell_type": "code",
   "execution_count": 254,
   "metadata": {},
   "outputs": [
    {
     "name": "stdout",
     "output_type": "stream",
     "text": [
      "X\n",
      "[[3 0]\n",
      " [4 1]\n",
      " [5 0]]\n",
      "f(x) = X^2 + 1\n",
      "[[15.  0.]\n",
      " [18.  0.]\n",
      " [21.  0.]\n",
      " [22.  1.]\n",
      " [26.  0.]\n",
      " [31.  0.]]\n"
     ]
    },
    {
     "data": {
      "text/plain": [
       "[<matplotlib.lines.Line2D at 0x7fad54401ac8>]"
      ]
     },
     "execution_count": 254,
     "metadata": {},
     "output_type": "execute_result"
    },
    {
     "data": {
      "image/png": "[encoded data removed]",
      "text/plain": [
       "<Figure size 432x288 with 1 Axes>"
      ]
     },
     "metadata": {
      "needs_background": "light"
     },
     "output_type": "display_data"
    }
   ],
   "source": [
    "#function is X^2 + 1\n",
    "X = get_fuzzy(3, 5, 1)\n",
    "func = scalaradd_fuzzy(multiply_fuzzy(X, X), 6)\n",
    "print('X')\n",
    "print(X)\n",
    "print('f(x) = X^2 + 1')\n",
    "print(func)\n",
    "plt.plot(X.T[0], X.T[1])\n",
    "plt.plot(func.T[0], func.T[1])"
   ]
  }
 ],
 "metadata": {
  "kernelspec": {
   "display_name": "Python 3",
   "language": "python",
   "name": "python3"
  },
  "language_info": {
   "codemirror_mode": {
    "name": "ipython",
    "version": 3
   },
   "file_extension": ".py",
   "mimetype": "text/x-python",
   "name": "python",
   "nbconvert_exporter": "python",
   "pygments_lexer": "ipython3",
   "version": "3.6.5"
  }
 },
 "nbformat": 4,
 "nbformat_minor": 2
}
