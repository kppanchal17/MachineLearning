{
 "cells": [
  {
   "cell_type": "code",
   "execution_count": 43,
   "metadata": {},
   "outputs": [],
   "source": [
    "import cv2\n",
    "import numpy as np\n",
    "import matplotlib.pyplot as plt\n",
    "import math\n",
    "import random\n",
    "from random import shuffle"
   ]
  },
  {
   "cell_type": "code",
   "execution_count": 44,
   "metadata": {},
   "outputs": [],
   "source": [
    "#Data Collection\n",
    "collect_data = False\n",
    "mode = 1\n",
    "ct = 0\n",
    "if collect_data:\n",
    "    RiverClicks = []\n",
    "    NonRiverClicks = []\n",
    "    def mouse_callback(event, x, y, flags, params):\n",
    "        global mode\n",
    "        global ct\n",
    "        if event == cv2.EVENT_LBUTTONDOWN:\n",
    "            ct += 1\n",
    "            print('Click ' + str(ct))\n",
    "            global NonRiverClicks\n",
    "            global RiverClicks\n",
    "            if mode == 1:\n",
    "                RiverClicks.append([x, y])\n",
    "            else:\n",
    "                NonRiverClicks.append([x,y])\n",
    "    img = cv2.imread('images/4.png',0)\n",
    "    cv2.namedWindow('image', cv2.WINDOW_NORMAL)\n",
    "    cv2.setMouseCallback('image', mouse_callback)\n",
    "    cv2.imshow('image', img)\n",
    "    cv2.waitKey(0)\n",
    "    cv2.destroyAllWindows()\n",
    "    if mode == 1:\n",
    "        file = open('RiverPoints.txt', 'w')\n",
    "        for point in RiverClicks:\n",
    "            file.write(str(point[0]) + ' ' + str(point[1])+'\\n')\n",
    "        file.close()\n",
    "    if mode == 2:\n",
    "        file = open('NonRiverPoints.txt', 'w')\n",
    "        for point in NonRiverClicks:\n",
    "            file.write(str(point[0]) + ' ' + str(point[1])+'\\n')\n",
    "        file.close()"
   ]
  },
  {
   "cell_type": "code",
   "execution_count": 45,
   "metadata": {},
   "outputs": [],
   "source": [
    "#Data Reading\n",
    "Rchannel = cv2.imread('images/1.png')\n",
    "Rchannel = cv2.cvtColor(Rchannel,cv2.COLOR_BGR2RGB)[:,:,:1].reshape((Rchannel.shape[0], Rchannel.shape[1]))\n",
    "Gchannel = cv2.imread('images/2.png')\n",
    "Gchannel = cv2.cvtColor(Gchannel,cv2.COLOR_BGR2RGB)[:,:,:1].reshape((Gchannel.shape[0], Gchannel.shape[1]))\n",
    "Bchannel = cv2.imread('images/3.png')\n",
    "Bchannel = cv2.cvtColor(Bchannel,cv2.COLOR_BGR2RGB)[:,:,:1].reshape((Bchannel.shape[0], Bchannel.shape[1]))\n",
    "Ichannel = cv2.imread('images/4.png')\n",
    "Ichannel = cv2.cvtColor(Ichannel,cv2.COLOR_BGR2RGB)[:,:,:1].reshape((Ichannel.shape[0], Ichannel.shape[1]))\n",
    "River_train = []\n",
    "NonRiver_train = []\n",
    "\n",
    "with open('RiverPoints.txt','r') as fp:\n",
    "    point = fp.readline()\n",
    "    while point:\n",
    "        point = point.split()\n",
    "        point = [int(val) for val in point]\n",
    "        River_train.append([Rchannel[point[0]][point[1]], Gchannel[point[0]][point[1]], Bchannel[point[0]][point[1]], Ichannel[point[0]][point[1]]])\n",
    "        point = fp.readline()\n",
    "with open('NonRiverPoints.txt','r') as fp:\n",
    "    point = fp.readline()\n",
    "    while point:\n",
    "        point = point.split()\n",
    "        point = [int(val) for val in point]\n",
    "        NonRiver_train.append([Rchannel[point[0]][point[1]], Gchannel[point[0]][point[1]], Bchannel[point[0]][point[1]], Ichannel[point[0]][point[1]]])\n",
    "        point = fp.readline()\n",
    "River_train = np.asarray(River_train)\n",
    "NonRiver_train = np.asarray(NonRiver_train)"
   ]
  },
  {
   "cell_type": "code",
   "execution_count": 46,
   "metadata": {},
   "outputs": [],
   "source": [
    "# River Non River parameters\n",
    "River_mean = np.mean(River_train, axis = 0)\n",
    "NonRiver_mean = np.mean(NonRiver_train, axis = 0)\n",
    "River_cov = np.cov(River_train.T)\n",
    "NonRiver_cov = np.cov(NonRiver_train.T)\n",
    "River_inverse = np.linalg.inv(River_cov)\n",
    "NonRiver_inverse = np.linalg.inv(NonRiver_cov)\n",
    "River_det = np.linalg.det(River_cov)\n",
    "NonRiver_det = np.linalg.det(NonRiver_cov)"
   ]
  },
  {
   "cell_type": "code",
   "execution_count": 47,
   "metadata": {},
   "outputs": [],
   "source": [
    "def Predict(i, j, P1, P2):\n",
    "    sample = [Rchannel[i][j], Gchannel[i][j], Bchannel[i][j], Ichannel[i][j]]\n",
    "    sample = np.asarray(sample)\n",
    "    River_class = (sample - River_mean).T@River_inverse@(sample - River_mean)\n",
    "    NonRiver_class = (sample - NonRiver_mean).T@NonRiver_inverse@(sample - NonRiver_mean)\n",
    "#     if(i < 5 and j < 5):\n",
    "#         print(River_class, NonRiver_class)\n",
    "    p1 = -0.5 * 1 / math.sqrt(River_det) * np.exp(River_class)\n",
    "    p2 = -0.5 * 1 / math.sqrt(NonRiver_det) * np.exp(NonRiver_class)\n",
    "    if p1 * P1 >= p2 * P2:\n",
    "        return 'river'\n",
    "    else:\n",
    "        return 'nonriver'"
   ]
  },
  {
   "cell_type": "code",
   "execution_count": 48,
   "metadata": {},
   "outputs": [
    {
     "name": "stderr",
     "output_type": "stream",
     "text": [
      "/home/luv/.local/lib/python3.6/site-packages/ipykernel_launcher.py:8: RuntimeWarning: overflow encountered in exp\n",
      "  \n"
     ]
    },
    {
     "data": {
      "image/png": "[encoded data removed]",
      "text/plain": [
       "<Figure size 576x576 with 1 Axes>"
      ]
     },
     "metadata": {
      "needs_background": "light"
     },
     "output_type": "display_data"
    },
    {
     "data": {
      "image/png": "[encoded data removed]",
      "text/plain": [
       "<Figure size 576x576 with 1 Axes>"
      ]
     },
     "metadata": {
      "needs_background": "light"
     },
     "output_type": "display_data"
    },
    {
     "data": {
      "image/png": "[encoded data removed]",
      "text/plain": [
       "<Figure size 576x576 with 1 Axes>"
      ]
     },
     "metadata": {
      "needs_background": "light"
     },
     "output_type": "display_data"
    }
   ],
   "source": [
    "# Testing\n",
    "P1 = [0.3,0.7,0.5]\n",
    "P2 = [0.7,0.3,0.5]\n",
    "for k in range(len(P1)):\n",
    "    Result = np.zeros(Rchannel.shape)\n",
    "    for i in range(Rchannel.shape[0]):\n",
    "        for j in range(Rchannel.shape[1]):\n",
    "            if Predict(i,j,P1[k],P2[k]) == 'river':\n",
    "                Result[i][j] = 255\n",
    "            else:\n",
    "                Result[i][j] = 0\n",
    "\n",
    "    plt.figure(figsize=(8,8))\n",
    "    plt.title('P1 = ' + str(P1[k]) + ', P2 = '+str(P2[k]))\n",
    "    plt.imshow(Result, cmap = 'gray')"
   ]
  }
 ],
 "metadata": {
  "kernelspec": {
   "display_name": "Python 3",
   "language": "python",
   "name": "python3"
  },
  "language_info": {
   "codemirror_mode": {
    "name": "ipython",
    "version": 3
   },
   "file_extension": ".py",
   "mimetype": "text/x-python",
   "name": "python",
   "nbconvert_exporter": "python",
   "pygments_lexer": "ipython3",
   "version": "3.6.5"
  }
 },
 "nbformat": 4,
 "nbformat_minor": 2
}
