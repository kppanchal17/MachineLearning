{
 "cells": [
  {
   "cell_type": "code",
   "execution_count": 71,
   "metadata": {},
   "outputs": [],
   "source": [
    "import numpy as np\n",
    "import pandas as pd\n",
    "import matplotlib.pyplot as plt\n",
    "from nltk.tokenize import word_tokenize\n",
    "from nltk.corpus import stopwords\n",
    "from nltk.stem import PorterStemmer"
   ]
  },
  {
   "cell_type": "code",
   "execution_count": 82,
   "metadata": {},
   "outputs": [
    {
     "name": "stdout",
     "output_type": "stream",
     "text": [
      "5572\n"
     ]
    }
   ],
   "source": [
    "# Taking input and creating train test splits\n",
    "data = pd.read_csv('spam.csv',encoding = 'latin-1')\n",
    "data = data.drop(['Unnamed: 2','Unnamed: 3','Unnamed: 4'], axis=1)\n",
    "data = np.asarray(data)\n",
    "split_ratio = 0.7\n",
    "split = int(split_ratio * data.shape[0])\n",
    "data_train = data[:split+1, :]\n",
    "data_test = data[split+1:,:]\n",
    "print(len(data))"
   ]
  },
  {
   "cell_type": "code",
   "execution_count": 73,
   "metadata": {},
   "outputs": [],
   "source": [
    "#Data Preprocessing\n",
    "def Preprocessing(mail):\n",
    "    mail = mail.lower()\n",
    "    mail = word_tokenize(mail)\n",
    "    stopword = stopwords.words('english')\n",
    "    words = []\n",
    "    for word in mail:\n",
    "        if word not in stopword and len(word) > 2: \n",
    "            words.append(word)\n",
    "    stemmer = PorterStemmer()\n",
    "    words = [stemmer.stem(word) for word in words]\n",
    "    return words"
   ]
  },
  {
   "cell_type": "code",
   "execution_count": 81,
   "metadata": {},
   "outputs": [
    {
     "name": "stdout",
     "output_type": "stream",
     "text": [
      "6674\n",
      "2176\n",
      "5171\n",
      "519 3382 3901\n"
     ]
    }
   ],
   "source": [
    "#String counts for spam and ham words\n",
    "message_train = []\n",
    "for data in data_train:\n",
    "    words = Preprocessing(data[1])\n",
    "    message_train.append(words)\n",
    "spam = {}\n",
    "ham = {}\n",
    "all_words = {}\n",
    "spam_word_ct = 0\n",
    "ham_word_ct = 0\n",
    "total_words = 0\n",
    "spam_ct = 0\n",
    "ham_ct = 0\n",
    "\n",
    "for i,message in enumerate(message_train):\n",
    "    if data_train[i][0] == 'spam':\n",
    "        spam_ct += 1\n",
    "        for word in message:\n",
    "            if word not in all_words:\n",
    "                all_words[word] = 1\n",
    "            else:\n",
    "                all_words[word] += 1\n",
    "            total_words += 1\n",
    "            spam_word_ct += 1\n",
    "            if word not in spam:\n",
    "                spam[word] = 1\n",
    "            else:\n",
    "                spam[word] += 1\n",
    "    if data_train[i][0] == 'ham':\n",
    "        ham_ct += 1\n",
    "        for word in message:\n",
    "            if word not in all_words:\n",
    "                all_words[word] = 1\n",
    "            else:\n",
    "                all_words[word] += 1\n",
    "            total_words += 1\n",
    "            ham_word_ct += 1\n",
    "            if word not in ham:\n",
    "                ham[word] = 1\n",
    "            else:\n",
    "                ham[word] += 1\n",
    "                \n",
    "print(len(all_words))\n",
    "print(len(spam))\n",
    "print(len(ham))\n",
    "print(spam_ct, ham_ct, spam_ct+ham_ct)"
   ]
  },
  {
   "cell_type": "code",
   "execution_count": 68,
   "metadata": {},
   "outputs": [],
   "source": [
    "def Predict(mail):\n",
    "    probaility_spam = spam_ct / len(data_train)\n",
    "    probaility_ham = ham_ct / len(data_train)\n",
    "    words = Preprocessing(mail)\n",
    "    for word in words:\n",
    "        if word in spam:\n",
    "            probaility_spam *= (spam[word] / spam_word_ct) / (all_words[word] / total_words)\n",
    "        else:\n",
    "            #Laplacian smoothening with alpha = 1\n",
    "            probaility_spam *= (1 / (spam_word_ct+len(spam)))\n",
    "            if word in all_words:\n",
    "                probaility_spam /= (all_words[word] / total_words)\n",
    "            else:\n",
    "                probaility_spam /= (1 / (total_words+len(all_words)))\n",
    "        if word in ham:\n",
    "            probaility_ham *= (ham[word] / ham_word_ct) / (all_words[word] / total_words)\n",
    "        else:\n",
    "            probaility_ham *= (1 / (ham_word_ct+len(ham)))\n",
    "            if word in all_words:\n",
    "                probaility_ham /= (all_words[word] / total_words)\n",
    "            else:\n",
    "                probaility_ham /= (1 / (total_words+len(all_words)))\n",
    "    if probaility_spam >= probaility_ham:\n",
    "        return 'spam'\n",
    "    else:\n",
    "        return 'ham'"
   ]
  },
  {
   "cell_type": "code",
   "execution_count": 69,
   "metadata": {},
   "outputs": [
    {
     "name": "stdout",
     "output_type": "stream",
     "text": [
      "Confusion Matrix\n",
      "[[1350.   93.]\n",
      " [   4.  224.]]\n",
      "Accuracy Percentage :  94.19509275882704\n"
     ]
    }
   ],
   "source": [
    "# Testing\n",
    "confusion_matrix = np.zeros((2,2))\n",
    "for data in data_test:\n",
    "    predictions.append(Predict(data[1]))\n",
    "    if data[0] == 'ham':\n",
    "        if Predict(data[1]) == 'ham':\n",
    "            confusion_matrix[0][0] += 1\n",
    "        else:\n",
    "            confusion_matrix[0][1] += 1\n",
    "    else:\n",
    "        if Predict(data[1]) == 'spam':\n",
    "            confusion_matrix[1][1] += 1\n",
    "        else:\n",
    "            confusion_matrix[1][0] += 1\n",
    "print('Confusion Matrix')\n",
    "print(confusion_matrix)\n",
    "print('Accuracy Percentage : ', (confusion_matrix[0][0]+ confusion_matrix[1][1]) / len(data_test) * 100)"
   ]
  }
 ],
 "metadata": {
  "kernelspec": {
   "display_name": "Python 3",
   "language": "python",
   "name": "python3"
  },
  "language_info": {
   "codemirror_mode": {
    "name": "ipython",
    "version": 3
   },
   "file_extension": ".py",
   "mimetype": "text/x-python",
   "name": "python",
   "nbconvert_exporter": "python",
   "pygments_lexer": "ipython3",
   "version": "3.6.5"
  }
 },
 "nbformat": 4,
 "nbformat_minor": 2
}
