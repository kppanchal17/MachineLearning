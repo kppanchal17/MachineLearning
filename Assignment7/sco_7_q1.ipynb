{
 "cells": [
  {
   "cell_type": "code",
   "execution_count": 40,
   "metadata": {},
   "outputs": [],
   "source": [
    "import numpy as np\n",
    "import matplotlib.pyplot as plt\n",
    "import random\n",
    "from mlxtend.data import loadlocal_mnist\n",
    "from sklearn.decomposition import PCA\n",
    "from sklearn.svm import SVC"
   ]
  },
  {
   "cell_type": "code",
   "execution_count": 41,
   "metadata": {},
   "outputs": [],
   "source": [
    "def Pca(data, components):\n",
    "    data = data.T\n",
    "    mean = np.mean(data, axis = 0)\n",
    "    average_data = (data - mean)\n",
    "    covarience = 1 /  len(average_data) * average_data@average_data.T\n",
    "    eigen_vectors,v,d = np.linalg.svd(covarience)\n",
    "    Keigen_vectors = eigen_vectors[:,:components]\n",
    "    eigen_faces = Keigen_vectors.T@average_data\n",
    "    return eigen_faces.T\n",
    "def Accuracy(actual, predict):\n",
    "    correct = 0\n",
    "    for i in range(len(actual)):\n",
    "        if actual[i] == predict[i]:\n",
    "            correct += 1\n",
    "    return correct / len(actual) * 100"
   ]
  },
  {
   "cell_type": "code",
   "execution_count": 42,
   "metadata": {},
   "outputs": [
    {
     "name": "stdout",
     "output_type": "stream",
     "text": [
      "(7189, 20) (7189,)\n"
     ]
    }
   ],
   "source": [
    "# Reading Data\n",
    "\n",
    "X, y = loadlocal_mnist(images_path='train-images.idx3-ubyte',labels_path='train-labels.idx1-ubyte')\n",
    "valid = []\n",
    "for i, val in enumerate(y):\n",
    "    if val == 3 or val == 8:\n",
    "        valid.append(i)\n",
    "dic = {3:1, 8:-1}\n",
    "X,y = X[valid], y[valid]\n",
    "y = np.asarray([dic[val] for val in y])\n",
    "# pca = Pca(n_components = 10)\n",
    "# X = pca.fit_transform(X)\n",
    "X = X / 255\n",
    "X = Pca(X,components=20)\n",
    "rand_index = np.random.permutation(len(X))\n",
    "X, y = X[rand_index], y[rand_index]\n",
    "# X, y = X[:2000], y[:2000]\n",
    "\n",
    "# 60 - 20 - 20 split into train validation and test sets\n",
    "\n",
    "split1 = 60\n",
    "split2 = 20\n",
    "split_point1 = int(split1 / 100 * len(X))\n",
    "split_point2 = split_point1 + int(split2 / 100 * len(X))\n",
    "X_train, y_train = X[:split_point1,:], y[:split_point1]\n",
    "X_val, y_val = X[split_point1:split_point2,:], y[split_point1:split_point2]\n",
    "X_test, y_test = X[split_point2:,:], y[split_point2:]\n",
    "print(X_train.shape, y_train.shape)"
   ]
  },
  {
   "cell_type": "code",
   "execution_count": 43,
   "metadata": {},
   "outputs": [],
   "source": [
    "# SVM with SMO\n",
    "\n",
    "def linear_kernel(x1, x2):\n",
    "    return x1@x2.T\n",
    "def polynomial_kernel(x1, x2):\n",
    "    return (x1@x2.T+1)**2\n",
    "def rbf_kernel(x1, x2, sigma = 1):\n",
    "    return np.exp(-np.linalg.norm(x1 - x2) ** 2 / (2 * (sigma ** 2)))\n",
    "\n",
    "def SMO(data, label, C = 1.0, kernel_type = 'linear'):\n",
    "    diff = np.inf\n",
    "    epsilon = 0.001\n",
    "    samples, features = data.shape\n",
    "    alpha = np.zeros(samples)\n",
    "    if kernel_type == 'linear':\n",
    "        kernel = linear_kernel\n",
    "    if kernel_type == 'polynomial':\n",
    "        kernel = polynomial_kernel\n",
    "    if kernel_type == 'rbf':\n",
    "        kernel = rbf_kernel\n",
    "    current_iteration = 0\n",
    "    W = 0\n",
    "    B = 0\n",
    "    passes = 0\n",
    "    max_passes = 4\n",
    "    tol = 0.0001\n",
    "    while passes < max_passes:\n",
    "        current_iteration += 1\n",
    "        alpha_old = np.copy(alpha)\n",
    "        changes = 0\n",
    "        for i in range(samples):\n",
    "            W = data.T@(alpha_old*label)\n",
    "            Error_i = np.sign(W.T@data[i] + B) - label[i]\n",
    "            if not (((label[i]*Error_i < -tol) and (alpha[i] < C)) or ((label[i]*Error_i > tol))):\n",
    "                continue\n",
    "            j = i\n",
    "            while j == i:\n",
    "                j = random.randint(0, samples-1)\n",
    "            eta = 2 * kernel(data[i], data[j]) - kernel(data[i], data[i]) - kernel(data[j], data[j])\n",
    "            if eta == 0:\n",
    "                continue\n",
    "            if(label[i] != label[j]):\n",
    "                L = max(0, alpha[j] - alpha[i])\n",
    "                H = min(C, C - alpha[i] + alpha[j])\n",
    "            else:\n",
    "                L = max(0, alpha[i] + alpha[j] - C)\n",
    "                H = min(C, alpha[i] + alpha[j])\n",
    "            if L == H:\n",
    "                continue\n",
    "            \n",
    "#             B = np.mean(label - W.T@data.T)\n",
    "            \n",
    "            Error_j = np.sign(W.T@data[j] + B) - label[j]\n",
    "            alpha[j] = alpha_old[j] - label[j] * (Error_i - Error_j)/ eta\n",
    "            if alpha[j] > H:\n",
    "                alpha[j] = H\n",
    "            if alpha[j] < L:\n",
    "                alpha[j] = L\n",
    "            if abs(alpha[j] - alpha_old[j]) < 0.00001:\n",
    "                alpha[j] = alpha_old[j]\n",
    "                continue\n",
    "            alpha[i] = alpha_old[i] + label[i]*label[j] * (alpha_old[j] - alpha[j])\n",
    "            b1 = B - Error_i - label[i]*(alpha[i] - alpha_old[i]) * kernel(data[i], data[i]) - label[j]*(alpha[j] - alpha_old[j]) * kernel(data[i], data[j])\n",
    "            b2 = B - Error_j - label[i]*(alpha[i] - alpha_old[i]) * kernel(data[i], data[j]) - label[j]*(alpha[j] - alpha_old[j]) * kernel(data[j], data[j])\n",
    "            if alpha[i] > 0 and alpha[i] < C:\n",
    "                B = b1\n",
    "            elif alpha[j] > 0 and alpha[j] < C:\n",
    "                B = b2\n",
    "            else:\n",
    "                B = (b1 + b2) / 2\n",
    "            changes += 1\n",
    "        if changes == 0:\n",
    "            passes += 1\n",
    "        else:\n",
    "            passes = 0\n",
    "\n",
    "        diff = np.linalg.norm(alpha - alpha_old)\n",
    "        print('Iteration : ', current_iteration , ', Difference : ' , diff, ', Changes : ', changes)\n",
    "    W = data.T@(alpha * label)\n",
    "    B = np.mean(label - W.T@data.T)\n",
    "    return W, B\n",
    "\n",
    "def predict(data, W, B, threshhold = 0):\n",
    "    if threshhold == 0:\n",
    "        return np.sign(W.T@data.T + B)\n",
    "    result = W.T@data.T + B\n",
    "    ret = []\n",
    "    for val in result:\n",
    "        if val >= threshhold:\n",
    "            ret.append(1)\n",
    "        else:\n",
    "            ret.append(-1)\n",
    "    return np.array(ret)"
   ]
  },
  {
   "cell_type": "code",
   "execution_count": 44,
   "metadata": {},
   "outputs": [
    {
     "name": "stdout",
     "output_type": "stream",
     "text": [
      "Iteration :  1 , Difference :  1.8245039621908774 , Changes :  1718\n",
      "Iteration :  2 , Difference :  1.3418556538520272 , Changes :  472\n",
      "Iteration :  3 , Difference :  1.0549368887452528 , Changes :  339\n",
      "Iteration :  4 , Difference :  1.0534874948433832 , Changes :  297\n",
      "Iteration :  5 , Difference :  1.001861920667279 , Changes :  281\n",
      "Iteration :  6 , Difference :  1.0324638153831962 , Changes :  298\n",
      "Iteration :  7 , Difference :  0.9929030466973363 , Changes :  281\n",
      "Iteration :  8 , Difference :  0.8742104808017274 , Changes :  247\n",
      "Iteration :  9 , Difference :  0.9998205355124231 , Changes :  264\n",
      "Iteration :  10 , Difference :  0.9786255092929645 , Changes :  283\n",
      "Iteration :  11 , Difference :  0.94944258997675 , Changes :  269\n",
      "Iteration :  12 , Difference :  1.037994669188167 , Changes :  284\n",
      "Iteration :  13 , Difference :  1.0024182280846308 , Changes :  286\n",
      "Iteration :  14 , Difference :  0.969251840540623 , Changes :  283\n",
      "Iteration :  15 , Difference :  0.9973126350871878 , Changes :  281\n",
      "Iteration :  16 , Difference :  0.9389026990640195 , Changes :  276\n",
      "Iteration :  17 , Difference :  1.0157100250307787 , Changes :  307\n",
      "Iteration :  18 , Difference :  0.9537698919936518 , Changes :  292\n",
      "Iteration :  19 , Difference :  0.9775535031548231 , Changes :  286\n",
      "Iteration :  20 , Difference :  0.9883964057995158 , Changes :  281\n",
      "Iteration :  21 , Difference :  0.9956018650074951 , Changes :  284\n",
      "Iteration :  22 , Difference :  0.9527530617159757 , Changes :  285\n",
      "Iteration :  23 , Difference :  0.9322332467939319 , Changes :  283\n",
      "Iteration :  24 , Difference :  0.9091442659881926 , Changes :  281\n",
      "Iteration :  25 , Difference :  0.970348396256184 , Changes :  279\n",
      "Iteration :  26 , Difference :  0.9280116210622402 , Changes :  292\n",
      "Iteration :  27 , Difference :  0.9719603698411159 , Changes :  285\n",
      "Iteration :  28 , Difference :  0.8857006444110348 , Changes :  269\n",
      "Iteration :  29 , Difference :  0.8609955619153511 , Changes :  271\n",
      "Iteration :  30 , Difference :  0.8122277501279076 , Changes :  243\n",
      "Iteration :  31 , Difference :  0.8519070246001234 , Changes :  254\n",
      "Iteration :  32 , Difference :  0.8090453317517795 , Changes :  230\n",
      "Iteration :  33 , Difference :  0.7649431870113114 , Changes :  215\n",
      "Iteration :  34 , Difference :  0.7700533749536163 , Changes :  213\n",
      "Iteration :  35 , Difference :  0.7001976273361687 , Changes :  219\n",
      "Iteration :  36 , Difference :  0.7601112309759107 , Changes :  211\n",
      "Iteration :  37 , Difference :  0.7303546665866726 , Changes :  189\n",
      "Iteration :  38 , Difference :  0.6539693593794883 , Changes :  170\n",
      "Iteration :  39 , Difference :  0.6361998266536709 , Changes :  158\n",
      "Iteration :  40 , Difference :  0.5379058705408476 , Changes :  127\n",
      "Iteration :  41 , Difference :  0.5631628171927529 , Changes :  139\n",
      "Iteration :  42 , Difference :  0.5200163935217765 , Changes :  112\n",
      "Iteration :  43 , Difference :  0.530524668546714 , Changes :  106\n",
      "Iteration :  44 , Difference :  0.5095762174730292 , Changes :  88\n",
      "Iteration :  45 , Difference :  0.5272027507323672 , Changes :  80\n",
      "Iteration :  46 , Difference :  0.40728969376431373 , Changes :  83\n",
      "Iteration :  47 , Difference :  0.3898538874297234 , Changes :  76\n",
      "Iteration :  48 , Difference :  0.36533948653720794 , Changes :  61\n",
      "Iteration :  49 , Difference :  0.3795476812562524 , Changes :  50\n",
      "Iteration :  50 , Difference :  0.24826792507696752 , Changes :  46\n",
      "Iteration :  51 , Difference :  0.3195226531835495 , Changes :  45\n",
      "Iteration :  52 , Difference :  0.2652002969203661 , Changes :  43\n",
      "Iteration :  53 , Difference :  0.2734708106211197 , Changes :  33\n",
      "Iteration :  54 , Difference :  0.29798712966868424 , Changes :  38\n",
      "Iteration :  55 , Difference :  0.27330617422419484 , Changes :  31\n",
      "Iteration :  56 , Difference :  0.2481049340022801 , Changes :  28\n",
      "Iteration :  57 , Difference :  0.2116413597944809 , Changes :  26\n",
      "Iteration :  58 , Difference :  0.214198701404954 , Changes :  16\n",
      "Iteration :  59 , Difference :  0.19056928438662138 , Changes :  16\n",
      "Iteration :  60 , Difference :  0.20918890558315914 , Changes :  17\n",
      "Iteration :  61 , Difference :  0.18502969493917867 , Changes :  17\n",
      "Iteration :  62 , Difference :  0.16342702822490152 , Changes :  12\n",
      "Iteration :  63 , Difference :  0.18759248423134783 , Changes :  15\n",
      "Iteration :  64 , Difference :  0.16246380175957387 , Changes :  13\n",
      "Iteration :  65 , Difference :  0.1621689118857928 , Changes :  12\n",
      "Iteration :  66 , Difference :  0.13193055716004431 , Changes :  10\n",
      "Iteration :  67 , Difference :  0.11815973465774451 , Changes :  8\n",
      "Iteration :  68 , Difference :  0.1141126335993844 , Changes :  6\n",
      "Iteration :  69 , Difference :  0.06974413650359332 , Changes :  2\n",
      "Iteration :  70 , Difference :  0.10857614218506412 , Changes :  7\n",
      "Iteration :  71 , Difference :  0.12373607407309785 , Changes :  3\n",
      "Iteration :  72 , Difference :  0.0666280331053501 , Changes :  3\n",
      "Iteration :  73 , Difference :  0.08361552970672789 , Changes :  6\n",
      "Iteration :  74 , Difference :  0.07661329576832208 , Changes :  5\n",
      "Iteration :  75 , Difference :  0.032129524495555103 , Changes :  1\n",
      "Iteration :  76 , Difference :  0.05704325155728201 , Changes :  1\n",
      "Iteration :  77 , Difference :  0.0 , Changes :  0\n",
      "Iteration :  78 , Difference :  0.0 , Changes :  0\n",
      "Iteration :  79 , Difference :  0.0 , Changes :  0\n",
      "Iteration :  80 , Difference :  0.0 , Changes :  0\n"
     ]
    }
   ],
   "source": [
    "W, B = SMO(X_train, y_train, C = 1, kernel_type='linear')"
   ]
  },
  {
   "cell_type": "code",
   "execution_count": 45,
   "metadata": {},
   "outputs": [
    {
     "name": "stdout",
     "output_type": "stream",
     "text": [
      "95.11686143572621\n"
     ]
    }
   ],
   "source": [
    "Y_valid = predict(X_val, W, B)\n",
    "print(Accuracy(y_val, Y_valid))"
   ]
  },
  {
   "cell_type": "code",
   "execution_count": 46,
   "metadata": {},
   "outputs": [
    {
     "name": "stdout",
     "output_type": "stream",
     "text": [
      "94.74342928660826\n"
     ]
    }
   ],
   "source": [
    "Y_test = predict(X_test, W, B)\n",
    "print(Accuracy(y_test, Y_test))"
   ]
  },
  {
   "cell_type": "code",
   "execution_count": 52,
   "metadata": {},
   "outputs": [
    {
     "data": {
      "text/plain": [
       "[<matplotlib.lines.Line2D at 0x7f157e1f1fd0>]"
      ]
     },
     "execution_count": 52,
     "metadata": {},
     "output_type": "execute_result"
    },
    {
     "data": {
      "image/png": "[encoded data removed]",
      "text/plain": [
       "<Figure size 576x576 with 1 Axes>"
      ]
     },
     "metadata": {
      "needs_background": "light"
     },
     "output_type": "display_data"
    }
   ],
   "source": [
    "# ROC curve\n",
    "def GetTPRandFPR(predicted, actual):\n",
    "    confusion_matrix = np.zeros((2,2))\n",
    "    for i in range(len(predicted)):\n",
    "        if(actual[i] == -1):\n",
    "            if predicted[i] == -1:\n",
    "                confusion_matrix[0][0] += 1\n",
    "            if predicted[i] == 1:\n",
    "                confusion_matrix[0][1] += 1\n",
    "        else:\n",
    "            if predicted[i] == -1:\n",
    "                confusion_matrix[1][0] += 1\n",
    "            if predicted[i] == 1:\n",
    "                confusion_matrix[1][1] += 1\n",
    "    TPR = confusion_matrix[1][1] / (confusion_matrix[1][1] + confusion_matrix[1][0])\n",
    "    FPR = confusion_matrix[0][1] / (confusion_matrix[0][1] + confusion_matrix[0][0])\n",
    "    return TPR, FPR\n",
    "\n",
    "threshholds = np.arange(-500, 500, 2)\n",
    "X_plot = []\n",
    "Y_plot = []\n",
    "for val in threshholds:\n",
    "    TPR, FPR = GetTPRandFPR(predict(X_test, W, B, val),y_test)\n",
    "    X_plot.append(FPR)\n",
    "    Y_plot.append(TPR)\n",
    "\n",
    "plt.figure(figsize=(8,8))\n",
    "plt.title('ROC curve')\n",
    "plt.xlabel('False Positive Rate')\n",
    "plt.ylabel('True Positive Rate')\n",
    "plt.plot(X_plot,Y_plot)"
   ]
  }
 ],
 "metadata": {
  "kernelspec": {
   "display_name": "Python 3",
   "language": "python",
   "name": "python3"
  },
  "language_info": {
   "codemirror_mode": {
    "name": "ipython",
    "version": 3
   },
   "file_extension": ".py",
   "mimetype": "text/x-python",
   "name": "python",
   "nbconvert_exporter": "python",
   "pygments_lexer": "ipython3",
   "version": "3.6.5"
  }
 },
 "nbformat": 4,
 "nbformat_minor": 2
}
