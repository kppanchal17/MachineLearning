{
 "cells": [
  {
   "cell_type": "code",
   "execution_count": 116,
   "metadata": {},
   "outputs": [],
   "source": [
    "import numpy as np\n",
    "import pandas as pd\n",
    "import matplotlib.pyplot as plt\n",
    "from mpl_toolkits.mplot3d import Axes3D\n",
    "from sklearn.utils import shuffle"
   ]
  },
  {
   "cell_type": "code",
   "execution_count": 117,
   "metadata": {},
   "outputs": [
    {
     "data": {
      "text/html": [
       "<div>\n",
       "<style scoped>\n",
       "    .dataframe tbody tr th:only-of-type {\n",
       "        vertical-align: middle;\n",
       "    }\n",
       "\n",
       "    .dataframe tbody tr th {\n",
       "        vertical-align: top;\n",
       "    }\n",
       "\n",
       "    .dataframe thead th {\n",
       "        text-align: right;\n",
       "    }\n",
       "</style>\n",
       "<table border=\"1\" class=\"dataframe\">\n",
       "  <thead>\n",
       "    <tr style=\"text-align: right;\">\n",
       "      <th></th>\n",
       "      <th>exam1</th>\n",
       "      <th>exam2</th>\n",
       "      <th>accept</th>\n",
       "    </tr>\n",
       "  </thead>\n",
       "  <tbody>\n",
       "    <tr>\n",
       "      <th>0</th>\n",
       "      <td>-1.594216</td>\n",
       "      <td>0.635141</td>\n",
       "      <td>-1.218606</td>\n",
       "    </tr>\n",
       "    <tr>\n",
       "      <th>1</th>\n",
       "      <td>-1.817101</td>\n",
       "      <td>-1.201489</td>\n",
       "      <td>-1.218606</td>\n",
       "    </tr>\n",
       "    <tr>\n",
       "      <th>2</th>\n",
       "      <td>-1.531325</td>\n",
       "      <td>0.359483</td>\n",
       "      <td>-1.218606</td>\n",
       "    </tr>\n",
       "    <tr>\n",
       "      <th>3</th>\n",
       "      <td>-0.280687</td>\n",
       "      <td>1.080923</td>\n",
       "      <td>0.812404</td>\n",
       "    </tr>\n",
       "    <tr>\n",
       "      <th>4</th>\n",
       "      <td>0.688062</td>\n",
       "      <td>0.490905</td>\n",
       "      <td>0.812404</td>\n",
       "    </tr>\n",
       "  </tbody>\n",
       "</table>\n",
       "</div>"
      ],
      "text/plain": [
       "      exam1     exam2    accept\n",
       "0 -1.594216  0.635141 -1.218606\n",
       "1 -1.817101 -1.201489 -1.218606\n",
       "2 -1.531325  0.359483 -1.218606\n",
       "3 -0.280687  1.080923  0.812404\n",
       "4  0.688062  0.490905  0.812404"
      ]
     },
     "execution_count": 117,
     "metadata": {},
     "output_type": "execute_result"
    }
   ],
   "source": [
    "# Fetching data\n",
    "data = pd.read_csv('examination.csv')\n",
    "mean = data.mean()\n",
    "stddev = data.std()\n",
    "data = (data - data.mean())/data.std()\n",
    "data.head()"
   ]
  },
  {
   "cell_type": "code",
   "execution_count": 118,
   "metadata": {},
   "outputs": [
    {
     "name": "stdout",
     "output_type": "stream",
     "text": [
      "(29, 3) (71, 3)\n"
     ]
    }
   ],
   "source": [
    "# Separate out the Feature and Target matrices\n",
    "data=np.asarray(data)\n",
    "Y=data[:,-1:]\n",
    "X=data[:,:-1]\n",
    "\n",
    "# Nature of Data\n",
    "\n",
    "# fig, ax = plt.subplots() \n",
    "# for i in range(len(X)):\n",
    "#     if Y[i] == 1:\n",
    "#         ax.plot(X[i][0], X[i][1], marker='o',color='b')\n",
    "#     else:\n",
    "#         ax.plot(X[i][0], X[i][1], marker='o',color='r')\n",
    "one = np.ones((len(X),1))\n",
    "X = np.concatenate((one,X),axis=1)\n",
    "split_ratio = 0.7\n",
    "split = int(split_ratio * X.shape[0])\n",
    "\n",
    "X_train = X[:split+1, :]\n",
    "Y_train = Y[:split+1, :]\n",
    "\n",
    "X_test = X[split+1:,:]\n",
    "Y_test = Y[split+1:,:]\n",
    "\n",
    "# For Adding extra features for more accuracy\n",
    "\n",
    "# X_train = np.concatenate((X_train,X_train[:,1:]**2), axis=1)\n",
    "# X_test = np.concatenate((X_test,X_test[:,1:]**2), axis=1)\n",
    "\n",
    "\n",
    "print(X_test.shape, X_train.shape)"
   ]
  },
  {
   "cell_type": "code",
   "execution_count": 122,
   "metadata": {},
   "outputs": [],
   "source": [
    "# Cost Function\n",
    "def computeCost(X,Y,theta, lam):\n",
    "    h = getG(X@theta)\n",
    "#     print(theta,X@theta, h)\n",
    "    eps = 1e-4\n",
    "    lam_matrix = lam * np.ones(theta.shape)\n",
    "    ret = -1 * Y.T@np.log(h+eps) - (1 - Y).T@np.log(1-h+eps)\n",
    "    return ret[0][0] / len(X) + np.sum(lam_matrix, axis =1)/ (2* len(X))\n",
    "\n",
    "def denormalise_price(price):\n",
    "    global mean\n",
    "    global stddev\n",
    "    ret = price * stddev[2] + mean[2]\n",
    "    return ret\n",
    "\n",
    "def computeError(predicted, actual):\n",
    "    error = 0\n",
    "    for i in range(len(predicted)):\n",
    "        if(actual[i] != predicted[i]):\n",
    "            error+=1\n",
    "    error /= len(actual)\n",
    "    return error*100\n",
    "\n",
    "def getG(thetax):\n",
    "#     print(\"hi\",thetax)\n",
    "    return (1 / (1 + np.exp(-1 * thetax)))"
   ]
  },
  {
   "cell_type": "code",
   "execution_count": 120,
   "metadata": {},
   "outputs": [],
   "source": [
    "# Gradient Descent\n",
    "def gradientDescent(X,y,theta,iters,alpha):\n",
    "    cost = []\n",
    "    for i in range(iters):   \n",
    "        gx = getG(X @ theta)\n",
    "        theta = theta - (alpha / len(X)) * X.T @(gx - y)\n",
    "        cost.append(computeCost(X, y, theta, 0))\n",
    "    return theta,cost\n"
   ]
  },
  {
   "cell_type": "code",
   "execution_count": 125,
   "metadata": {},
   "outputs": [],
   "source": [
    "# Gradient Descent with regularisation\n",
    "def gradientDescent2(X,y,theta,iters,alpha, lam):\n",
    "    cost = []\n",
    "    lam_matrix = lam * np.ones(theta.shape)\n",
    "    lam_matrix[0][0] = 0\n",
    "    for i in range(iters):\n",
    "        gx = getG(X @ theta)\n",
    "        theta = theta*(1- alpha*lam_matrix / len(X)) - (alpha / len(X)) * X.T @(gx - y)\n",
    "        cost.append(computeCost(X, y, theta, lam))\n",
    "    return theta,cost\n"
   ]
  },
  {
   "cell_type": "code",
   "execution_count": 134,
   "metadata": {},
   "outputs": [
    {
     "name": "stdout",
     "output_type": "stream",
     "text": [
      "Accuracy :  82.75862068965517\n",
      "Error :  17.24137931034483\n"
     ]
    }
   ],
   "source": [
    "theta = np.zeros([X_train.shape[1],1])\n",
    "alpha = .01\n",
    "iters = 1000\n",
    "# print(computeCost(X_train, Y_train, theta).shape)\n",
    "g,cost = gradientDescent2(X_train,Y_train,theta,iters,alpha, 0.01)\n",
    "# print(g)\n",
    "Y_pred = getG(X_test.dot(g))\n",
    "Y_pred = denormalise_price(Y_pred)\n",
    "\n",
    "for i in range(len(Y_pred)):\n",
    "    if(Y_pred[i] >= 0.5):\n",
    "        Y_pred[i] = 1\n",
    "    else:\n",
    "        Y_pred[i] = 0\n",
    "# print(Y_pred, Y_test)\n",
    "error = computeError(Y_pred,denormalise_price(Y_test))\n",
    "# error = computeError(Y_pred, Y_test)\n",
    "print(\"Accuracy : \", 100 - error)\n",
    "print(\"Error : \", error)"
   ]
  },
  {
   "cell_type": "code",
   "execution_count": 112,
   "metadata": {},
   "outputs": [
    {
     "data": {
      "text/plain": [
       "[<matplotlib.lines.Line2D at 0x7f1d8dd24a58>]"
      ]
     },
     "execution_count": 112,
     "metadata": {},
     "output_type": "execute_result"
    },
    {
     "data": {
      "image/png": "[encoded data removed]",
      "text/plain": [
       "<Figure size 432x288 with 1 Axes>"
      ]
     },
     "metadata": {
      "needs_background": "light"
     },
     "output_type": "display_data"
    },
    {
     "data": {
      "image/png": "[encoded data removed]",
      "text/plain": [
       "<Figure size 432x288 with 1 Axes>"
      ]
     },
     "metadata": {
      "needs_background": "light"
     },
     "output_type": "display_data"
    }
   ],
   "source": [
    "# Iteration vs Error(Cost) plot\n",
    "fig, ax = plt.subplots()  \n",
    "ax.plot(np.arange(iters), cost, 'r')  \n",
    "ax.set_xlabel('Iterations') \n",
    "ax.set_ylabel('Cost')\n",
    "ax.set_title('Cost vs. Training Epoch') \n",
    "\n",
    "fig1,ax1 = plt.subplots()\n",
    "ax1.set_title('Dataset with classification boundary') \n",
    "X_tmp = X[:,1:]\n",
    "Y_tmp = denormalise_price(Y)\n",
    "Y_out = []\n",
    "for i in range(len(X_tmp)):\n",
    "    Y_out.append((-g[0]-g[1]*X_tmp[i][0])/g[2])\n",
    "    if Y_tmp[i] == 1:\n",
    "        ax1.plot(X_tmp[i][0], X_tmp[i][1], marker='o',color='b')\n",
    "    else:\n",
    "        ax1.plot(X_tmp[i][0], X_tmp[i][1], marker='o',color='r')\n",
    "Y_out = np.asarray(Y_out)\n",
    "ax1.plot(X_tmp[:,:1],Y_out-1)"
   ]
  },
  {
   "cell_type": "code",
   "execution_count": 135,
   "metadata": {},
   "outputs": [],
   "source": [
    "# GRadient Descent with Lambda\n",
    "theta = np.zeros([X_train.shape[1],1])\n",
    "alpha = 0.01\n",
    "iters = 1000\n",
    "lam = 0\n",
    "# Running the Gradient Descent Function\n",
    "error_matrix = []\n",
    "lam_range = 100\n",
    "for lam in range(lam_range):\n",
    "    g,cost = gradientDescent2(X_train,Y_train,theta,iters,alpha, lam / 1000)\n",
    "    Y_pred = getG(X_test.dot(g))\n",
    "    Y_pred = denormalise_price(Y_pred)\n",
    "    for i in range(len(Y_pred)):\n",
    "        if(Y_pred[i] >= 0.5):\n",
    "            Y_pred[i] = 1\n",
    "        else:\n",
    "            Y_pred[i] = 0\n",
    "    error = computeError(Y_pred,denormalise_price(Y_test))\n",
    "    error_matrix.append(error)"
   ]
  },
  {
   "cell_type": "code",
   "execution_count": 114,
   "metadata": {},
   "outputs": [
    {
     "data": {
      "text/plain": [
       "Text(0.5, 1.0, 'Error vs. Lambda')"
      ]
     },
     "execution_count": 114,
     "metadata": {},
     "output_type": "execute_result"
    },
    {
     "data": {
      "image/png": "[encoded data removed]",
      "text/plain": [
       "<Figure size 432x288 with 1 Axes>"
      ]
     },
     "metadata": {
      "needs_background": "light"
     },
     "output_type": "display_data"
    }
   ],
   "source": [
    "# Lambda vs Error(Cost) plot\n",
    "fig, ax = plt.subplots()  \n",
    "ax.plot(np.arange(lam_range), error_matrix, 'r')\n",
    "ax.set_xlabel('Lambda') \n",
    "ax.set_ylabel('Error') \n",
    "ax.set_title('Error vs. Lambda') "
   ]
  }
 ],
 "metadata": {
  "kernelspec": {
   "display_name": "Python 3",
   "language": "python",
   "name": "python3"
  },
  "language_info": {
   "codemirror_mode": {
    "name": "ipython",
    "version": 3
   },
   "file_extension": ".py",
   "mimetype": "text/x-python",
   "name": "python",
   "nbconvert_exporter": "python",
   "pygments_lexer": "ipython3",
   "version": "3.6.5"
  }
 },
 "nbformat": 4,
 "nbformat_minor": 2
}
